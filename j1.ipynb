{
 "cells": [
  {
   "cell_type": "code",
   "execution_count": 17,
   "metadata": {},
   "outputs": [],
   "source": [
    "import pandas as pd\n",
    "import numpy as np\n",
    "import matplotlib.pyplot as plt\n",
    "import seaborn as sns\n",
    "from sklearn.model_selection import train_test_split\n",
    "from sklearn.metrics import mean_squared_error, r2_score\n",
    "from sklearn.preprocessing import StandardScaler\n",
    "pd.set_option(\"display.max_columns\", None)"
   ]
  },
  {
   "cell_type": "code",
   "execution_count": 18,
   "metadata": {},
   "outputs": [
    {
     "data": {
      "text/html": [
       "<div>\n",
       "<style scoped>\n",
       "    .dataframe tbody tr th:only-of-type {\n",
       "        vertical-align: middle;\n",
       "    }\n",
       "\n",
       "    .dataframe tbody tr th {\n",
       "        vertical-align: top;\n",
       "    }\n",
       "\n",
       "    .dataframe thead th {\n",
       "        text-align: right;\n",
       "    }\n",
       "</style>\n",
       "<table border=\"1\" class=\"dataframe\">\n",
       "  <thead>\n",
       "    <tr style=\"text-align: right;\">\n",
       "      <th></th>\n",
       "      <th>Model Name</th>\n",
       "      <th>Engine Type</th>\n",
       "      <th>HP or lbs thr ea engine</th>\n",
       "      <th>Max speed Knots</th>\n",
       "      <th>Rcmnd cruise Knots</th>\n",
       "      <th>Stall Knots dirty</th>\n",
       "      <th>Fuel gal/lbs</th>\n",
       "      <th>All eng rate of climb</th>\n",
       "      <th>Eng out rate of climb</th>\n",
       "      <th>Takeoff over 50ft</th>\n",
       "      <th>Landing over 50ft</th>\n",
       "      <th>Empty weight lbs</th>\n",
       "      <th>Length ft/in</th>\n",
       "      <th>Wing span ft/in</th>\n",
       "      <th>Range N.M.</th>\n",
       "      <th>Price</th>\n",
       "    </tr>\n",
       "  </thead>\n",
       "  <tbody>\n",
       "    <tr>\n",
       "      <th>179</th>\n",
       "      <td>T 210 F Turbo Centurion</td>\n",
       "      <td>Jet</td>\n",
       "      <td>3,786</td>\n",
       "      <td>.76 Mach</td>\n",
       "      <td>429.0</td>\n",
       "      <td>82.0</td>\n",
       "      <td>6590</td>\n",
       "      <td>3,090</td>\n",
       "      <td>3460.0</td>\n",
       "      <td>3315.0</td>\n",
       "      <td>19,200</td>\n",
       "      <td>11,310</td>\n",
       "      <td>51/10</td>\n",
       "      <td>55/8</td>\n",
       "      <td>2,027</td>\n",
       "      <td>NaN</td>\n",
       "    </tr>\n",
       "  </tbody>\n",
       "</table>\n",
       "</div>"
      ],
      "text/plain": [
       "                  Model Name Engine Type HP or lbs thr ea engine  \\\n",
       "179  T 210 F Turbo Centurion         Jet                   3,786   \n",
       "\n",
       "    Max speed Knots  Rcmnd cruise Knots  Stall Knots dirty  Fuel gal/lbs  \\\n",
       "179        .76 Mach               429.0               82.0          6590   \n",
       "\n",
       "    All eng rate of climb  Eng out rate of climb  Takeoff over 50ft  \\\n",
       "179                 3,090                 3460.0             3315.0   \n",
       "\n",
       "    Landing over 50ft Empty weight lbs Length ft/in Wing span ft/in  \\\n",
       "179            19,200           11,310        51/10            55/8   \n",
       "\n",
       "    Range N.M.  Price  \n",
       "179      2,027    NaN  "
      ]
     },
     "execution_count": 18,
     "metadata": {},
     "output_type": "execute_result"
    }
   ],
   "source": [
    "df = pd.read_csv('/workspaces/airplane_price/Plane Price.csv')\n",
    "df.sample()"
   ]
  }
 ],
 "metadata": {
  "kernelspec": {
   "display_name": "Python 3 (ipykernel)",
   "language": "python",
   "name": "python3"
  },
  "language_info": {
   "codemirror_mode": {
    "name": "ipython",
    "version": 3
   },
   "file_extension": ".py",
   "mimetype": "text/x-python",
   "name": "python",
   "nbconvert_exporter": "python",
   "pygments_lexer": "ipython3",
   "version": "3.10.13"
  }
 },
 "nbformat": 4,
 "nbformat_minor": 2
}
